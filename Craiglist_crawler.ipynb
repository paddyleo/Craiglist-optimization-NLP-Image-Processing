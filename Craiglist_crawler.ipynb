{
 "cells": [
  {
   "cell_type": "code",
   "execution_count": 1,
   "id": "f89e2a21",
   "metadata": {
    "colab": {
     "base_uri": "https://localhost:8080/"
    },
    "id": "f89e2a21",
    "outputId": "3ea9d29a-e89b-48a5-bb84-c1da7d6df97b"
   },
   "outputs": [
    {
     "name": "stdout",
     "output_type": "stream",
     "text": [
      "Populating the interactive namespace from numpy and matplotlib\n"
     ]
    }
   ],
   "source": [
    "import pandas as pd\n",
    "from bs4 import BeautifulSoup as bs4\n",
    "%pylab inline\n",
    "import requests\n",
    "import numpy as np"
   ]
  },
  {
   "cell_type": "code",
   "execution_count": 2,
   "id": "6259ee7b",
   "metadata": {
    "id": "6259ee7b"
   },
   "outputs": [],
   "source": [
    "city_list = [\"tippecanoe\", \"bloomington\", \"chicago\", \"cincinnati\", \"newyork\", \"detroit\", \"seattle\", \n",
    "             \"losangeles\", \"sfbay\", \"austin\"]\n",
    "\n",
    "links = []\n",
    "for city in city_list:\n",
    "  page = requests.get(f\"https://{city}.craigslist.org/d/appliances/search/ppa\")\n",
    "  bsobj = bs4(page.content,'lxml')\n",
    "  for link in bsobj.findAll('li',{'class':'result-row'}):\n",
    "      links.append(link.a['href'])"
   ]
  },
  {
   "cell_type": "code",
   "execution_count": 3,
   "id": "8f9591d5",
   "metadata": {
    "colab": {
     "base_uri": "https://localhost:8080/",
     "height": 206
    },
    "id": "8f9591d5",
    "outputId": "e4f87c28-c737-4eff-e922-0b77a165efbb"
   },
   "outputs": [
    {
     "data": {
      "text/html": [
       "<div>\n",
       "<style scoped>\n",
       "    .dataframe tbody tr th:only-of-type {\n",
       "        vertical-align: middle;\n",
       "    }\n",
       "\n",
       "    .dataframe tbody tr th {\n",
       "        vertical-align: top;\n",
       "    }\n",
       "\n",
       "    .dataframe thead th {\n",
       "        text-align: right;\n",
       "    }\n",
       "</style>\n",
       "<table border=\"1\" class=\"dataframe\">\n",
       "  <thead>\n",
       "    <tr style=\"text-align: right;\">\n",
       "      <th></th>\n",
       "      <th>link</th>\n",
       "    </tr>\n",
       "  </thead>\n",
       "  <tbody>\n",
       "    <tr>\n",
       "      <th>0</th>\n",
       "      <td>https://tippecanoe.craigslist.org/app/d/fisher...</td>\n",
       "    </tr>\n",
       "    <tr>\n",
       "      <th>1</th>\n",
       "      <td>https://tippecanoe.craigslist.org/app/d/lafaye...</td>\n",
       "    </tr>\n",
       "    <tr>\n",
       "      <th>2</th>\n",
       "      <td>https://tippecanoe.craigslist.org/app/d/lafaye...</td>\n",
       "    </tr>\n",
       "    <tr>\n",
       "      <th>3</th>\n",
       "      <td>https://tippecanoe.craigslist.org/app/d/fisher...</td>\n",
       "    </tr>\n",
       "    <tr>\n",
       "      <th>4</th>\n",
       "      <td>https://tippecanoe.craigslist.org/app/d/brooks...</td>\n",
       "    </tr>\n",
       "  </tbody>\n",
       "</table>\n",
       "</div>"
      ],
      "text/plain": [
       "                                                link\n",
       "0  https://tippecanoe.craigslist.org/app/d/fisher...\n",
       "1  https://tippecanoe.craigslist.org/app/d/lafaye...\n",
       "2  https://tippecanoe.craigslist.org/app/d/lafaye...\n",
       "3  https://tippecanoe.craigslist.org/app/d/fisher...\n",
       "4  https://tippecanoe.craigslist.org/app/d/brooks..."
      ]
     },
     "execution_count": 3,
     "metadata": {},
     "output_type": "execute_result"
    }
   ],
   "source": [
    "scraped_data = pd.DataFrame({'link':links})\n",
    "scraped_data.head()"
   ]
  },
  {
   "cell_type": "code",
   "execution_count": 325,
   "id": "FNwXUL8RO_c4",
   "metadata": {
    "id": "FNwXUL8RO_c4"
   },
   "outputs": [],
   "source": [
    "def get_listing_info(args):\n",
    "    link = args[0]\n",
    "    listing_heading = 'NA'\n",
    "    listing_price = 'NA'\n",
    "    condition_val = 'NA'\n",
    "    description = 'NA'\n",
    "    page = requests.get(link)\n",
    "    bsobj = bs4(page.content,'lxml')\n",
    "    for link in bsobj.findAll('h1',{'class':'postingtitle'}):\n",
    "        listing_heading = link.text\n",
    "        heading_split = listing_heading.split()\n",
    "        for tag in heading_split:\n",
    "          if tag.startswith('$') and tag[-1].isdigit():\n",
    "            listing_price = tag\n",
    "    for link in bsobj.findAll('p',{'class':'attrgroup'}):\n",
    "      temp_tag = link.text.split('\\n')\n",
    "      temp_tag = [val.strip() for val in temp_tag if val.startswith('condition')]\n",
    "      if len(temp_tag) > 0:\n",
    "        condition_val = temp_tag[0].split(':')[1].strip()\n",
    "    for i in bsobj.findAll('section',{'id':'postingbody'}):\n",
    "        description = i.text.strip().replace('QR Code Link to This Post','').replace('\\n','')\n",
    "    return pd.Series([listing_heading.strip(), description, listing_price, condition_val])"
   ]
  },
  {
   "cell_type": "code",
   "execution_count": 326,
   "id": "59hcmse7equj",
   "metadata": {
    "id": "59hcmse7equj"
   },
   "outputs": [],
   "source": [
    "scraped_data[['Title', 'Description' ,'Price', 'Condition']] = scraped_data.apply(get_listing_info, axis=1,  result_type='expand')\n",
    "scraped_data['Title'] = scraped_data['Title'].str.strip()"
   ]
  },
  {
   "cell_type": "code",
   "execution_count": 348,
   "id": "lAUJdvJbj6-t",
   "metadata": {
    "id": "lAUJdvJbj6-t"
   },
   "outputs": [],
   "source": [
    "scraped_data.to_csv('craiglist_1k_appliances_data.csv', index=False)"
   ]
  }
 ],
 "metadata": {
  "colab": {
   "collapsed_sections": [],
   "name": "Craiglist web scraping.ipynb",
   "provenance": []
  },
  "kernelspec": {
   "display_name": "Python 3",
   "language": "python",
   "name": "python3"
  },
  "language_info": {
   "codemirror_mode": {
    "name": "ipython",
    "version": 3
   },
   "file_extension": ".py",
   "mimetype": "text/x-python",
   "name": "python",
   "nbconvert_exporter": "python",
   "pygments_lexer": "ipython3",
   "version": "3.8.8"
  }
 },
 "nbformat": 4,
 "nbformat_minor": 5
}
