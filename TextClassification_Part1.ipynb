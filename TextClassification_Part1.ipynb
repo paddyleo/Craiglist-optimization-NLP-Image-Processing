{
 "cells": [
  {
   "cell_type": "code",
   "execution_count": null,
   "id": "7d641275",
   "metadata": {},
   "outputs": [],
   "source": [
    "#loading the unprocessed data\n",
    "import pandas as pd\n",
    "import matplotlib.pyplot as plt\n",
    "import seaborn as sns\n",
    "import numpy as np\n",
    "import nltk\n",
    "from nltk.sentiment.vader import SentimentIntensityAnalyzer\n",
    "from sklearn.feature_extraction.text import CountVectorizer, TfidfVectorizer\n",
    "from sklearn.pipeline import FeatureUnion\n",
    "import re\n",
    "import string\n",
    "from scipy.sparse import hstack, csr_matrix\n",
    "from sklearn.model_selection import train_test_split\n",
    "from sklearn.linear_model import RidgeClassifier\n",
    "from sklearn.metrics import accuracy_score\n",
    "from sklearn import model_selection, naive_bayes, svm\n",
    "from sklearn.naive_bayes import GaussianNB\n",
    "import os\n",
    "nltk.download('vader_lexicon')\n",
    "project_data = pd.read_csv('craiglist_1.2k_appliances_data.csv')"
   ]
  },
  {
   "cell_type": "code",
   "execution_count": null,
   "id": "e5a9b5d0",
   "metadata": {},
   "outputs": [],
   "source": [
    "project_data"
   ]
  },
  {
   "cell_type": "code",
   "execution_count": null,
   "id": "8a40aed3",
   "metadata": {},
   "outputs": [],
   "source": [
    "#droping not so relevant columns\n",
    "project_data = project_data.drop(['link','Title','Price'], axis=1)\n",
    "project_data"
   ]
  },
  {
   "cell_type": "code",
   "execution_count": null,
   "id": "eee6b95e",
   "metadata": {},
   "outputs": [],
   "source": [
    "#glancing at project_data dataframe\n",
    "num_of_colmns_proj = len(project_data.columns)\n",
    "num_of_rows_proj   = len(project_data)\n",
    "print('Number of Columns in Project data   : ',num_of_colmns_proj)\n",
    "print('Number of rows in Project data      : ',num_of_rows_proj)"
   ]
  },
  {
   "cell_type": "code",
   "execution_count": null,
   "id": "1ba362f2",
   "metadata": {},
   "outputs": [],
   "source": [
    "#defining the function to calculate the length of the string, number of words, and presence of digit in each text field\n",
    "import regex as re\n",
    "def check_len(summary):\n",
    "  size = len(summary)\n",
    "  return size\n",
    "\n",
    "def check_word_count(summary):\n",
    "  countt=0\n",
    "  for word in summary.split(' '):\n",
    "    countt+=1\n",
    "  return countt\n",
    "\n",
    "def digit_counter(summary):\n",
    "  temp = bool(re.search('\\d',summary))\n",
    "  if temp:\n",
    "    return 1\n",
    "  else:\n",
    "    return 0"
   ]
  },
  {
   "cell_type": "code",
   "execution_count": null,
   "id": "bbf163ed",
   "metadata": {},
   "outputs": [],
   "source": [
    "#introducing new columns to denote the length of project summary and number of words in it\n",
    "project_data['summary_size']     = project_data.apply(lambda x: check_len(str(x['Description'])),axis=1)\n",
    "project_data['words_in_summary'] = project_data.apply(lambda x: check_word_count(str(x['Description'])),axis=1)\n",
    "project_data['digit_in_summary'] = project_data.apply(lambda x: digit_counter(str(x['Description'])),axis=1)\n",
    "project_data.head(6)\n"
   ]
  },
  {
   "cell_type": "code",
   "execution_count": null,
   "id": "800ccdf9",
   "metadata": {},
   "outputs": [],
   "source": [
    "#understanding the variation in the length of summary and number of words in it\n",
    "summ_max = project_data['summary_size'].max()\n",
    "summ_min = project_data['summary_size'].min()\n",
    "print('='*45)\n",
    "print('Maximum lenth of summary is  : ',summ_max)\n",
    "print('Minimum lenth of summary is  : ',summ_min)\n",
    "print('='*45)"
   ]
  },
  {
   "cell_type": "code",
   "execution_count": null,
   "id": "ca31a036",
   "metadata": {},
   "outputs": [],
   "source": [
    "#understanding the variation in number of words in summary\n",
    "from collections import Counter\n",
    "summ_word_counter    = Counter()\n",
    "word_count_summ      = list(project_data['words_in_summary'])\n",
    "summ_word_counter.update(word_count_summ)\n",
    "summ_word_counter    = dict(summ_word_counter)\n",
    "summ_word_counter    = dict(sorted(summ_word_counter.items(), key=lambda kv: kv[0]))\n",
    "plt.plot(list(summ_word_counter.keys()),list(summ_word_counter.values()))\n",
    "plt.scatter(list(summ_word_counter.keys()),list(summ_word_counter.values()))\n",
    "plt.xlabel('Number of words in each summary')\n",
    "plt.ylabel('Number of projects')\n",
    "plt.grid()\n",
    "plt.show()"
   ]
  },
  {
   "cell_type": "code",
   "execution_count": null,
   "id": "9b41a549",
   "metadata": {},
   "outputs": [],
   "source": [
    "#variation in our class label\n",
    "project_data['Condition'].value_counts()"
   ]
  },
  {
   "cell_type": "code",
   "execution_count": null,
   "id": "07b1bec3",
   "metadata": {},
   "outputs": [],
   "source": [
    "#ploting the box plot for the approved and rejected summaries\n",
    "app_sum_word_count = project_data[project_data['Condition']=='excellent']['words_in_summary']\n",
    "excellent_sum_word_count = app_sum_word_count.values\n",
    "app_sum_word_count = project_data[project_data['Condition']=='new']['words_in_summary']\n",
    "new_sum_word_count = app_sum_word_count.values\n",
    "app_sum_word_count = project_data[project_data['Condition']=='good']['words_in_summary']\n",
    "good_sum_word_count = app_sum_word_count.values\n",
    "app_sum_word_count = project_data[project_data['Condition']=='like new']['words_in_summary']\n",
    "like_new_sum_word_count = app_sum_word_count.values\n",
    "plt.boxplot([excellent_sum_word_count, new_sum_word_count, good_sum_word_count,like_new_sum_word_count  ])\n",
    "plt.xticks([1,2,3,4],('excellent_sum_word_count', 'new_sum_word_count', 'good_sum_word_count','like_new_sum_word_count'))\n",
    "plt.ylabel('Words in project summaries')\n",
    "plt.grid()\n",
    "plt.show()"
   ]
  },
  {
   "cell_type": "code",
   "execution_count": null,
   "id": "1ecccd3c",
   "metadata": {},
   "outputs": [],
   "source": [
    "#Preprocessing the Column : Description\n",
    "import re\n",
    "def decontracted(phrase):\n",
    "    phrase = re.sub(r\"won't\", \"will not\", phrase)\n",
    "    phrase = re.sub(r\"can\\'t\", \"can not\", phrase)\n",
    "    phrase = re.sub(r\"n\\'t\", \" not\", phrase)\n",
    "    phrase = re.sub(r\"\\'re\", \" are\", phrase)\n",
    "    phrase = re.sub(r\"\\'s\", \" is\", phrase)\n",
    "    phrase = re.sub(r\"\\'d\", \" would\", phrase)\n",
    "    phrase = re.sub(r\"\\'ll\", \" will\", phrase)\n",
    "    phrase = re.sub(r\"\\'t\", \" not\", phrase)\n",
    "    phrase = re.sub(r\"\\'ve\", \" have\", phrase)\n",
    "    phrase = re.sub(r\"\\'m\", \" am\", phrase)\n",
    "    return phrase"
   ]
  },
  {
   "cell_type": "code",
   "execution_count": null,
   "id": "c2397dbd",
   "metadata": {},
   "outputs": [],
   "source": [
    "#creating a list of stop words\n",
    "stopwords= ['i', 'me', 'my', 'myself', 'we', 'our', 'ours', 'ourselves', 'you', \"you're\", \"you've\",\\\n",
    "            \"you'll\", \"you'd\", 'your', 'yours', 'yourself', 'yourselves', 'he', 'him', 'his', 'himself', \\\n",
    "            'she', \"she's\", 'her', 'hers', 'herself', 'it', \"it's\", 'its', 'itself', 'they', 'them', 'their',\\\n",
    "            'theirs', 'themselves', 'what', 'which', 'who', 'whom', 'this', 'that', \"that'll\", 'these', 'those', \\\n",
    "            'am', 'is', 'are', 'was', 'were', 'be', 'been', 'being', 'have', 'has', 'had', 'having', 'do', 'does', \\\n",
    "            'did', 'doing', 'a', 'an', 'the', 'and', 'but', 'if', 'or', 'because', 'as', 'until', 'while', 'of', \\\n",
    "            'at', 'by', 'for', 'with', 'about', 'against', 'between', 'into', 'through', 'during', 'before', 'after',\\\n",
    "            'above', 'below', 'to', 'from', 'up', 'down', 'in', 'out', 'on', 'off', 'over', 'under', 'again', 'further',\\\n",
    "            'then', 'once', 'here', 'there', 'when', 'where', 'why', 'how', 'all', 'any', 'both', 'each', 'few', 'more',\\\n",
    "            'most', 'other', 'some', 'such', 'only', 'own', 'same', 'so', 'than', 'too', 'very', \\\n",
    "            's', 't', 'can', 'will', 'just', 'don', \"don't\", 'should', \"should've\", 'now', 'd', 'll', 'm', 'o', 're', \\\n",
    "            've', 'y', 'ain', 'aren', \"aren't\", 'couldn', \"couldn't\", 'didn', \"didn't\", 'doesn', \"doesn't\", 'hadn',\\\n",
    "            \"hadn't\", 'hasn', \"hasn't\", 'haven', \"haven't\", 'isn', \"isn't\", 'ma', 'mightn', \"mightn't\", 'mustn',\\\n",
    "            \"mustn't\", 'needn', \"needn't\", 'shan', \"shan't\", 'shouldn', \"shouldn't\", 'wasn', \"wasn't\", 'weren', \"weren't\", \\\n",
    "            'won', \"won't\", 'wouldn', \"wouldn't\"]"
   ]
  },
  {
   "cell_type": "code",
   "execution_count": null,
   "id": "427e9fc6",
   "metadata": {},
   "outputs": [],
   "source": [
    "#using above functions and list of stop words to preprocess the textual data\n",
    "from tqdm import tqdm\n",
    "def preprocess_text(text_data):\n",
    "    preprocessed_text = []\n",
    "    for sentance in tqdm(text_data):\n",
    "        sentance = str(sentance)\n",
    "        sent = decontracted(sentance)\n",
    "        sent = sent.replace('\\\\r', ' ')\n",
    "        sent = sent.replace('\\\\n', ' ')\n",
    "        sent = sent.replace('\\\\\"', ' ')\n",
    "        sent = re.sub('[^A-Za-z0-9]+', ' ', sent)\n",
    "        sent = ' '.join(e for e in sent.split() if e.lower() not in stopwords)\n",
    "        preprocessed_text.append(sent.lower().strip())\n",
    "    return preprocessed_text"
   ]
  },
  {
   "cell_type": "code",
   "execution_count": null,
   "id": "8edd1dbf",
   "metadata": {},
   "outputs": [],
   "source": [
    "#preprocessing the project title using above defined functions\n",
    "cleaned_Description = preprocess_text(project_data['Description'].values)"
   ]
  },
  {
   "cell_type": "code",
   "execution_count": null,
   "id": "75ca5f11",
   "metadata": {},
   "outputs": [],
   "source": [
    "#creating a new column with preprocessed Description\n",
    "project_data['cleaned_Description'] = np.array(cleaned_Description)\n",
    "project_data"
   ]
  },
  {
   "cell_type": "code",
   "execution_count": null,
   "id": "c357227b",
   "metadata": {},
   "outputs": [],
   "source": [
    "Excellent_description = list(project_data[project_data['Condition'] == 'excellent']['Description'].values)\n",
    "Excellent_description_str = ''\n",
    "for doc in Excellent_description:\n",
    "    Excellent_description_str += doc\n",
    "print(len(Excellent_description_str))\n",
    "\n",
    "new_description = list(project_data[project_data['Condition'] == 'new']['Description'].values)\n",
    "new_description_str = ''\n",
    "for doc in new_description:\n",
    "    new_description_str += doc\n",
    "print(len(new_description_str))\n",
    "\n",
    "cat_1 = Excellent_description_str + ' ' + new_description_str\n",
    "\n",
    "print(len(Excellent_description_str))\n",
    "print(len(Excellent_description),len(new_description))\n",
    "Excellent_description = list(project_data[project_data['Condition'] == 'excellent']['Description'].values)\n",
    "Excellent_description = list(project_data[project_data['Condition'] == 'excellent']['Description'].values)\n",
    "Excellent_description = list(project_data[project_data['Condition'] == 'excellent']['Description'].values)\n",
    "Excellent_description_str = ''\n",
    "for doc in Excellent_description:\n",
    "    Excellent_description_str += doc\n",
    "len(cat_1)"
   ]
  },
  {
   "cell_type": "code",
   "execution_count": null,
   "id": "7d984f94",
   "metadata": {},
   "outputs": [],
   "source": [
    "#generating a word cloud using word cloud library\n",
    "Word_box_pre = cat_1\n",
    "from wordcloud import WordCloud, STOPWORDS\n",
    "#STOPWORDS.add('new')\n",
    "#STOPWORDS.add('box')\n",
    "#STOPWORDS.add('will')\n",
    "wordcloud = WordCloud(width = 800,height = 800,background_color ='white',min_font_size=10, stopwords=STOPWORDS).generate(Word_box_pre)\n",
    "plt.figure(figsize = (8, 8), facecolor = None) \n",
    "plt.imshow(wordcloud) \n",
    "plt.axis(\"off\") \n",
    "plt.tight_layout(pad = 0) \n",
    "plt.show()"
   ]
  },
  {
   "cell_type": "code",
   "execution_count": null,
   "id": "8641e797",
   "metadata": {},
   "outputs": [],
   "source": [
    "Good_description = list(project_data[project_data['Condition'] == 'good']['Description'].values)\n",
    "Good_description_str = ''\n",
    "for doc in Good_description:\n",
    "    Good_description_str += doc\n",
    "print(len(Good_description_str))\n",
    "\n",
    "like_new_description = list(project_data[project_data['Condition'] == 'like new']['Description'].values)\n",
    "like_new_description_str = ''\n",
    "for doc in new_description:\n",
    "    like_new_description_str += doc\n",
    "print(len(like_new_description_str))\n",
    "\n",
    "fair_description = list(project_data[project_data['Condition'] == 'fair']['Description'].values)\n",
    "fair_description_str = ''\n",
    "for doc in fair_description:\n",
    "    fair_description_str += doc\n",
    "print(len(fair_description_str))\n",
    "\n",
    "cat_2 = Good_description_str + ' ' + like_new_description_str + ' ' + fair_description_str"
   ]
  },
  {
   "cell_type": "code",
   "execution_count": null,
   "id": "4280c5aa",
   "metadata": {},
   "outputs": [],
   "source": [
    "#generating a word cloud using word cloud library\n",
    "Word_box_pre = cat_2\n",
    "from wordcloud import WordCloud, STOPWORDS\n",
    "STOPWORDS.add('new')\n",
    "#STOPWORDS.add('box')\n",
    "#STOPWORDS.add('will')\n",
    "wordcloud = WordCloud(width = 800,height = 800,background_color ='white',min_font_size=10, stopwords=STOPWORDS).generate(Word_box_pre)\n",
    "plt.figure(figsize = (8, 8), facecolor = None) \n",
    "plt.imshow(wordcloud) \n",
    "plt.axis(\"off\") \n",
    "plt.tight_layout(pad = 0) \n",
    "plt.show()"
   ]
  },
  {
   "cell_type": "code",
   "execution_count": null,
   "id": "0ce2e897",
   "metadata": {},
   "outputs": [],
   "source": [
    "#Generating sentiment scores for the cleaned descriptions\n",
    "sid = SentimentIntensityAnalyzer()\n",
    "project_data['positive_sentiments'] = project_data.apply(lambda x: sid.polarity_scores(str(x['cleaned_Description']))['pos'],axis=1)\n",
    "project_data\n"
   ]
  },
  {
   "cell_type": "code",
   "execution_count": null,
   "id": "3fb80650",
   "metadata": {},
   "outputs": [],
   "source": [
    "#dropping rows with no decription\n",
    "project_data = project_data[project_data['Description'].notna()]\n",
    "nan_rows = project_data[project_data['Description'].isnull()]\n",
    "nan_rows"
   ]
  },
  {
   "cell_type": "code",
   "execution_count": null,
   "id": "bc1c6d24",
   "metadata": {},
   "outputs": [],
   "source": [
    "#adding new attributes to the data set\n",
    "project_data['ex_flag'] = project_data['Description'].str.contains('excellent|Excellent').astype(int)\n",
    "project_data['new_flag'] = project_data['Description'].str.contains('new|New').astype(int)\n",
    "project_data['go_flag'] = project_data['Description'].str.contains('good|Good').astype(int)"
   ]
  },
  {
   "cell_type": "code",
   "execution_count": null,
   "id": "2dc9d0ff",
   "metadata": {},
   "outputs": [],
   "source": [
    "#publishing the dataframe \n",
    "project_data.head(3)"
   ]
  },
  {
   "cell_type": "code",
   "execution_count": null,
   "id": "a39a0655",
   "metadata": {},
   "outputs": [],
   "source": [
    "For_test = project_data[project_data['Condition'].isnull()]\n",
    "For_test.head(6)"
   ]
  },
  {
   "cell_type": "code",
   "execution_count": null,
   "id": "a470ce9e",
   "metadata": {},
   "outputs": [],
   "source": [
    "#variation in our class label\n",
    "project_data['Condition'].value_counts()"
   ]
  },
  {
   "cell_type": "code",
   "execution_count": null,
   "id": "742d0b0d",
   "metadata": {},
   "outputs": [],
   "source": [
    "#mapping column values with digits\n",
    "project_data['Condition'] = project_data['Condition'].map({'excellent': 0, 'new': 0, 'good':1, 'like new':1, 'fair':1 })\n"
   ]
  },
  {
   "cell_type": "code",
   "execution_count": null,
   "id": "ed880290",
   "metadata": {},
   "outputs": [],
   "source": [
    "#variation in our class label now\n",
    "project_data['Condition'].value_counts()"
   ]
  },
  {
   "cell_type": "code",
   "execution_count": null,
   "id": "2ce785cd",
   "metadata": {},
   "outputs": [],
   "source": [
    "#dropping rows with Nan coondition\n",
    "project_data.dropna(subset=['Condition'],inplace = True)"
   ]
  },
  {
   "cell_type": "code",
   "execution_count": null,
   "id": "0fff2fe9",
   "metadata": {},
   "outputs": [],
   "source": [
    "project_data.head(6)"
   ]
  },
  {
   "cell_type": "code",
   "execution_count": null,
   "id": "be81e292",
   "metadata": {},
   "outputs": [],
   "source": [
    "#partioning columns as per the nature of metadata\n",
    "y = project_data['Condition'].values\n",
    "X = project_data.drop(['Description','Condition'], axis=1)"
   ]
  },
  {
   "cell_type": "code",
   "execution_count": null,
   "id": "a0dc8095",
   "metadata": {},
   "outputs": [],
   "source": [
    "#viewing data that finally need to be processed\n",
    "X.head(3)"
   ]
  },
  {
   "cell_type": "code",
   "execution_count": null,
   "id": "c85fc7ac",
   "metadata": {},
   "outputs": [],
   "source": [
    "#spliting the entire data into train and test, then further train data into train and cross validate\n",
    "from sklearn.model_selection import train_test_split\n",
    "X_train, X_cv, y_train, y_cv = train_test_split(X, y, test_size=0.2, stratify=y)"
   ]
  },
  {
   "cell_type": "code",
   "execution_count": null,
   "id": "0796f289",
   "metadata": {},
   "outputs": [],
   "source": [
    "#getting data for our testing\n",
    "y_test = For_test['Condition'].values\n",
    "X_test = For_test.drop(['Description','Condition'], axis=1)\n",
    "X_test.head(3)"
   ]
  },
  {
   "cell_type": "code",
   "execution_count": null,
   "id": "3affab2c",
   "metadata": {},
   "outputs": [],
   "source": [
    "#creating a big list of all the features through train data\n",
    "big_list_features = []"
   ]
  },
  {
   "cell_type": "code",
   "execution_count": null,
   "id": "d22a5c46",
   "metadata": {},
   "outputs": [],
   "source": [
    "#fit vectorizing the column of train data using CountVectorizer\n",
    "from sklearn.preprocessing import Normalizer\n",
    "normalizer = Normalizer()\n",
    "normalizer.fit(X_train['go_flag'].values.reshape(-1,1))\n",
    "big_list_features.extend(['go_flag'])"
   ]
  },
  {
   "cell_type": "code",
   "execution_count": null,
   "id": "2d5a6fec",
   "metadata": {},
   "outputs": [],
   "source": [
    "#using fitted Normalizer\n",
    "X_train_go_flag_norm = normalizer.transform(X_train['go_flag'].values.reshape(-1,1))\n",
    "X_cv_go_flag_norm = normalizer.transform(X_cv['go_flag'].values.reshape(-1,1))\n",
    "X_test_go_flag_norm = normalizer.transform(X_test['go_flag'].values.reshape(-1,1))"
   ]
  },
  {
   "cell_type": "code",
   "execution_count": null,
   "id": "d1d284d1",
   "metadata": {},
   "outputs": [],
   "source": [
    "#printing the shape of vectors obtained post transformation and validating the number of rows using 'y'\n",
    "print('Train vector shape : ',X_train_go_flag_norm.shape,'Y train shape :',y_train.shape)\n",
    "print('C.V.  vector shape : ',X_train_go_flag_norm.shape,'Y C.V.  shape :', y_cv.shape)\n",
    "print('Test  vector shape : ',X_train_go_flag_norm.shape,'Y test  shape :', y_test.shape)"
   ]
  },
  {
   "cell_type": "code",
   "execution_count": null,
   "id": "08e36968",
   "metadata": {},
   "outputs": [],
   "source": [
    "#fit vectorizing the column of train data using CountVectorizer\n",
    "from sklearn.preprocessing import Normalizer\n",
    "normalizer = Normalizer()\n",
    "normalizer.fit(X_train['new_flag'].values.reshape(-1,1))\n",
    "big_list_features.extend(['new_flag'])"
   ]
  },
  {
   "cell_type": "code",
   "execution_count": null,
   "id": "5a178de5",
   "metadata": {},
   "outputs": [],
   "source": [
    "#using fitted Normalizer\n",
    "X_train_new_flag_norm = normalizer.transform(X_train['new_flag'].values.reshape(-1,1))\n",
    "X_cv_new_flag_norm = normalizer.transform(X_cv['new_flag'].values.reshape(-1,1))\n",
    "X_test_new_flag_norm = normalizer.transform(X_test['new_flag'].values.reshape(-1,1))"
   ]
  },
  {
   "cell_type": "code",
   "execution_count": null,
   "id": "a4b83aa7",
   "metadata": {},
   "outputs": [],
   "source": [
    "#printing the shape of vectors obtained post transformation and validating the number of rows using 'y'\n",
    "print('Train vector shape : ',X_train_new_flag_norm.shape,'Y train shape :',y_train.shape)\n",
    "print('C.V.  vector shape : ',X_cv_new_flag_norm.shape,'Y C.V.  shape :', y_cv.shape)\n",
    "print('Test  vector shape : ',X_test_new_flag_norm.shape,'Y test  shape :', y_test.shape)"
   ]
  },
  {
   "cell_type": "code",
   "execution_count": null,
   "id": "adc1d4b6",
   "metadata": {},
   "outputs": [],
   "source": [
    "#fit vectorizing the column of train data using CountVectorizer\n",
    "from sklearn.preprocessing import Normalizer\n",
    "normalizer = Normalizer()\n",
    "normalizer.fit(X_train['ex_flag'].values.reshape(-1,1))\n",
    "big_list_features.extend(['ex_flag'])"
   ]
  },
  {
   "cell_type": "code",
   "execution_count": null,
   "id": "dedfe167",
   "metadata": {},
   "outputs": [],
   "source": [
    "#using fitted Normalizer\n",
    "X_train_ex_flag_norm = normalizer.transform(X_train['ex_flag'].values.reshape(-1,1))\n",
    "X_cv_ex_flag_norm = normalizer.transform(X_cv['ex_flag'].values.reshape(-1,1))\n",
    "X_test_ex_flag_norm = normalizer.transform(X_test['ex_flag'].values.reshape(-1,1))"
   ]
  },
  {
   "cell_type": "code",
   "execution_count": null,
   "id": "afa84cac",
   "metadata": {},
   "outputs": [],
   "source": [
    "#printing the shape of vectors obtained post transformation and validating the number of rows using 'y'\n",
    "print('Train vector shape : ',X_train_ex_flag_norm.shape,'Y train shape :',y_train.shape)\n",
    "print('C.V.  vector shape : ',X_cv_ex_flag_norm.shape,'Y C.V.  shape :', y_cv.shape)\n",
    "print('Test  vector shape : ',X_test_ex_flag_norm.shape,'Y test  shape :', y_test.shape)"
   ]
  },
  {
   "cell_type": "code",
   "execution_count": null,
   "id": "86e930ec",
   "metadata": {},
   "outputs": [],
   "source": [
    "#fit vectorizing the column of train data using CountVectorizer\n",
    "from sklearn.preprocessing import Normalizer\n",
    "normalizer = Normalizer()\n",
    "normalizer.fit(X_train['digit_in_summary'].values.reshape(-1,1))\n",
    "big_list_features.extend(['digit_in_summary'])"
   ]
  },
  {
   "cell_type": "code",
   "execution_count": null,
   "id": "64ae1f0b",
   "metadata": {},
   "outputs": [],
   "source": [
    "#using fitted Normalizer\n",
    "X_train_digit_in_summary_norm = normalizer.transform(X_train['digit_in_summary'].values.reshape(-1,1))\n",
    "X_cv_digit_in_summary_norm = normalizer.transform(X_cv['digit_in_summary'].values.reshape(-1,1))\n",
    "X_test_digit_in_summary_norm = normalizer.transform(X_test['digit_in_summary'].values.reshape(-1,1))"
   ]
  },
  {
   "cell_type": "code",
   "execution_count": null,
   "id": "9e94d77e",
   "metadata": {},
   "outputs": [],
   "source": [
    "#printing the shape of vectors obtained post transformation and validating the number of rows using 'y'\n",
    "print('Train vector shape : ',X_train_digit_in_summary_norm.shape,'Y train shape :',y_train.shape)\n",
    "print('C.V.  vector shape : ',X_cv_digit_in_summary_norm.shape,'Y C.V.  shape :', y_cv.shape)\n",
    "print('Test  vector shape : ',X_test_digit_in_summary_norm.shape,'Y test  shape :', y_test.shape)"
   ]
  },
  {
   "cell_type": "code",
   "execution_count": null,
   "id": "901a42ad",
   "metadata": {},
   "outputs": [],
   "source": [
    "#fit vectorizing the column of train data using CountVectorizer\n",
    "from sklearn.preprocessing import Normalizer\n",
    "normalizer = Normalizer()\n",
    "normalizer.fit(X_train['words_in_summary'].values.reshape(-1,1))\n",
    "big_list_features.extend(['words_in_summary'])"
   ]
  },
  {
   "cell_type": "code",
   "execution_count": null,
   "id": "48612a7c",
   "metadata": {},
   "outputs": [],
   "source": [
    "#using fitted Normalizer\n",
    "X_train_words_in_summary = normalizer.transform(X_train['words_in_summary'].values.reshape(-1,1))\n",
    "X_cv_words_in_summary = normalizer.transform(X_cv['words_in_summary'].values.reshape(-1,1))\n",
    "X_test_words_in_summary = normalizer.transform(X_test['words_in_summary'].values.reshape(-1,1))"
   ]
  },
  {
   "cell_type": "code",
   "execution_count": null,
   "id": "010e34cd",
   "metadata": {},
   "outputs": [],
   "source": [
    "#printing the shape of vectors obtained post transformation and validating the number of rows using 'y'\n",
    "print('Train vector shape : ',X_train_words_in_summary.shape,'Y train shape :',y_train.shape)\n",
    "print('C.V.  vector shape : ',X_cv_words_in_summary.shape,'Y C.V.  shape :', y_cv.shape)\n",
    "print('Test  vector shape : ',X_test_words_in_summary.shape,'Y test  shape :', y_test.shape)"
   ]
  },
  {
   "cell_type": "code",
   "execution_count": null,
   "id": "ec52cd80",
   "metadata": {},
   "outputs": [],
   "source": [
    "#fit vectorizing the column of train data using CountVectorizer\n",
    "from sklearn.preprocessing import Normalizer\n",
    "normalizer = Normalizer()\n",
    "normalizer.fit(X_train['summary_size'].values.reshape(-1,1))\n",
    "big_list_features.extend(['summary_size'])"
   ]
  },
  {
   "cell_type": "code",
   "execution_count": null,
   "id": "38b9ec9d",
   "metadata": {},
   "outputs": [],
   "source": [
    "#using fitted Normalizer\n",
    "X_train_summary_size = normalizer.transform(X_train['summary_size'].values.reshape(-1,1))\n",
    "X_cv_summary_size = normalizer.transform(X_cv['summary_size'].values.reshape(-1,1))\n",
    "X_test_summary_size = normalizer.transform(X_test['summary_size'].values.reshape(-1,1))"
   ]
  },
  {
   "cell_type": "code",
   "execution_count": null,
   "id": "f172c7f1",
   "metadata": {},
   "outputs": [],
   "source": [
    "#printing the shape of vectors obtained post transformation and validating the number of rows using 'y'\n",
    "print('Train vector shape : ',X_train_summary_size.shape,'Y train shape :',y_train.shape)\n",
    "print('C.V.  vector shape : ',X_cv_summary_size.shape,'Y C.V.  shape :', y_cv.shape)\n",
    "print('Test  vector shape : ',X_test_summary_size.shape,'Y test  shape :', y_test.shape)"
   ]
  },
  {
   "cell_type": "code",
   "execution_count": null,
   "id": "df50e7f9",
   "metadata": {},
   "outputs": [],
   "source": [
    "#fit vectorizing the column of train data using CountVectorizer\n",
    "from sklearn.preprocessing import Normalizer\n",
    "normalizer = Normalizer()\n",
    "normalizer.fit(X_train['positive_sentiments'].values.reshape(-1,1))\n",
    "big_list_features.extend(['positive_sentiments'])"
   ]
  },
  {
   "cell_type": "code",
   "execution_count": null,
   "id": "0e804f79",
   "metadata": {},
   "outputs": [],
   "source": [
    "#using fitted Normalizer\n",
    "X_train_positive_sentiments = normalizer.transform(X_train['positive_sentiments'].values.reshape(-1,1))\n",
    "X_cv_positive_sentiments = normalizer.transform(X_cv['positive_sentiments'].values.reshape(-1,1))\n",
    "X_test_positive_sentiments = normalizer.transform(X_test['positive_sentiments'].values.reshape(-1,1))"
   ]
  },
  {
   "cell_type": "code",
   "execution_count": null,
   "id": "a9ade913",
   "metadata": {},
   "outputs": [],
   "source": [
    "#printing the shape of vectors obtained post transformation and validating the number of rows using 'y'\n",
    "print('Train vector shape : ',X_train_positive_sentiments.shape,'Y train shape :',y_train.shape)\n",
    "print('C.V.  vector shape : ',X_cv_positive_sentiments.shape,'Y C.V.  shape :', y_cv.shape)\n",
    "print('Test  vector shape : ',X_test_positive_sentiments.shape,'Y test  shape :', y_test.shape)"
   ]
  },
  {
   "cell_type": "code",
   "execution_count": null,
   "id": "b3d0eae2",
   "metadata": {},
   "outputs": [],
   "source": [
    "#fit vectorizing the column of train data using CountVectorizer\n",
    "from sklearn.feature_extraction.text import CountVectorizer\n",
    "vectorizer = CountVectorizer(min_df=1,ngram_range=(1,1), max_features=5000)\n",
    "vectorizer.fit(X_train['cleaned_Description'].values)\n",
    "print('Features on one hot encoding for the column :',len(vectorizer.get_feature_names()))\n",
    "big_list_features.extend(vectorizer.get_feature_names())"
   ]
  },
  {
   "cell_type": "code",
   "execution_count": null,
   "id": "a21f73f1",
   "metadata": {},
   "outputs": [],
   "source": [
    "#using fitted count vectorizer to convert text to vector\n",
    "X_train_cleaned_cleaned_Description = vectorizer.transform(X_train['cleaned_Description'].values)\n",
    "X_cv_cleaned_cleaned_Description = vectorizer.transform(X_cv['cleaned_Description'].values)\n",
    "X_test_cleaned_cleaned_Description = vectorizer.transform(X_test['cleaned_Description'].values)"
   ]
  },
  {
   "cell_type": "code",
   "execution_count": null,
   "id": "d5ede73d",
   "metadata": {},
   "outputs": [],
   "source": [
    "#printing the shape of vectors obtained post transformation and validating the number of rows using 'y'\n",
    "print('Train vector shape : ',X_train_cleaned_cleaned_Description.shape,'Y train shape :',y_train.shape)\n",
    "print('C.V.  vector shape : ',X_cv_cleaned_cleaned_Description.shape,'Y C.V.  shape :', y_cv.shape)\n",
    "print('Test  vector shape : ',X_test_cleaned_cleaned_Description.shape,'Y test  shape :', y_test.shape)"
   ]
  },
  {
   "cell_type": "markdown",
   "id": "80e7f008",
   "metadata": {},
   "source": [
    "### Only run below cell if want to use TF-idf"
   ]
  },
  {
   "cell_type": "code",
   "execution_count": null,
   "id": "1e77beb8",
   "metadata": {},
   "outputs": [],
   "source": [
    "#fit vectorizing the column of train data using TfidfVectorizer\n",
    "from sklearn.feature_extraction.text import TfidfVectorizer\n",
    "vectorizer = TfidfVectorizer(min_df=4,ngram_range=(1,4), max_features=5000)\n",
    "vectorizer.fit(X_train['cleaned_Description'].values)\n",
    "print('TFIDF Vocabulary for the column :',len(vectorizer.vocabulary_))"
   ]
  },
  {
   "cell_type": "code",
   "execution_count": null,
   "id": "9b2a9633",
   "metadata": {},
   "outputs": [],
   "source": [
    "#using fitted count vectorizer to convert text to vector\n",
    "X_train_cleaned_cleaned_Description = vectorizer.transform(X_train['cleaned_Description'].values)\n",
    "X_cv_cleaned_cleaned_Description = vectorizer.transform(X_cv['cleaned_Description'].values)\n",
    "X_test_cleaned_cleaned_Description = vectorizer.transform(X_test['cleaned_Description'].values)"
   ]
  },
  {
   "cell_type": "code",
   "execution_count": null,
   "id": "35cb0356",
   "metadata": {},
   "outputs": [],
   "source": [
    "#printing the shape of vectors obtained post transformation and validating the number of rows using 'y'\n",
    "print('Train vector shape : ',X_train_cleaned_cleaned_Description.shape,'Y train shape :',y_train.shape)\n",
    "print('C.V.  vector shape : ',X_cv_cleaned_cleaned_Description.shape,'Y C.V.  shape :', y_cv.shape)\n",
    "print('Test  vector shape : ',X_test_cleaned_cleaned_Description.shape,'Y test  shape :', y_test.shape)"
   ]
  },
  {
   "cell_type": "markdown",
   "id": "3e755aaf",
   "metadata": {},
   "source": [
    "### Trying different combinations of our variable"
   ]
  },
  {
   "cell_type": "code",
   "execution_count": null,
   "id": "2d8939e3",
   "metadata": {},
   "outputs": [],
   "source": [
    "#concatinating features using hstack from scipy\n",
    "from scipy.sparse import hstack\n",
    "X_tr_bow = hstack((X_train_ex_flag_norm, X_train_digit_in_summary_norm, X_train_cleaned_cleaned_Description,9*X_train_positive_sentiments)).tocsr()\n",
    "X_cr_bow = hstack((X_cv_ex_flag_norm, X_cv_digit_in_summary_norm, X_cv_cleaned_cleaned_Description,9*X_cv_positive_sentiments)).tocsr()\n",
    "X_te_bow = hstack((X_test_ex_flag_norm, X_test_digit_in_summary_norm, X_test_cleaned_cleaned_Description, 9*X_test_positive_sentiments)).tocsr()\n"
   ]
  },
  {
   "cell_type": "code",
   "execution_count": null,
   "id": "ec85c90d",
   "metadata": {},
   "outputs": [],
   "source": [
    "#concatinating features using hstack from scipy\n",
    "from scipy.sparse import hstack\n",
    "X_tr_bow = hstack((X_train_digit_in_summary_norm, X_train_cleaned_cleaned_Description,X_train_positive_sentiments)).tocsr()\n",
    "X_cr_bow = hstack((X_cv_digit_in_summary_norm, X_cv_cleaned_cleaned_Description,X_cv_positive_sentiments)).tocsr()\n",
    "X_te_bow = hstack((X_test_digit_in_summary_norm, X_test_cleaned_cleaned_Description, X_test_positive_sentiments)).tocsr()\n"
   ]
  },
  {
   "cell_type": "code",
   "execution_count": null,
   "id": "d0d7f8ca",
   "metadata": {},
   "outputs": [],
   "source": [
    "#base case\n",
    "from scipy.sparse import hstack\n",
    "X_tr_bow = X_train_cleaned_cleaned_Description\n",
    "X_cr_bow = X_cv_cleaned_cleaned_Description\n",
    "X_te_bow = X_test_cleaned_cleaned_Description"
   ]
  },
  {
   "cell_type": "code",
   "execution_count": null,
   "id": "c3661e63",
   "metadata": {},
   "outputs": [],
   "source": [
    "#concatinating features using hstack from scipy\n",
    "from scipy.sparse import hstack\n",
    "X_tr_bow = hstack((9*X_train_ex_flag_norm, 3*X_train_new_flag_norm, X_train_go_flag_norm,X_train_digit_in_summary_norm,X_train_words_in_summary,X_train_summary_size,X_train_cleaned_cleaned_Description,X_train_positive_sentiments)).tocsr()\n",
    "X_cr_bow = hstack((9*X_cv_ex_flag_norm, 3*X_cv_new_flag_norm, X_cv_go_flag_norm,X_cv_digit_in_summary_norm,X_cv_words_in_summary,X_cv_summary_size,X_cv_cleaned_cleaned_Description,X_cv_positive_sentiments)).tocsr()\n",
    "X_te_bow = hstack((9*X_test_ex_flag_norm, 3*X_test_new_flag_norm, X_test_go_flag_norm,X_test_digit_in_summary_norm,X_test_words_in_summary,X_test_summary_size,X_test_cleaned_cleaned_Description, X_test_positive_sentiments)).tocsr()\n"
   ]
  },
  {
   "cell_type": "code",
   "execution_count": null,
   "id": "42b7d31b",
   "metadata": {},
   "outputs": [],
   "source": [
    "#publishing the shape of final features\n",
    "print(X_tr_bow.shape, y_train.shape)\n",
    "print(X_cr_bow.shape, y_cv.shape)\n",
    "print(X_te_bow.shape, y_test.shape)"
   ]
  },
  {
   "cell_type": "code",
   "execution_count": null,
   "id": "3f01f913",
   "metadata": {},
   "outputs": [],
   "source": [
    "#confirming with the dimension of our list of features\n",
    "len(big_list_features)"
   ]
  },
  {
   "cell_type": "code",
   "execution_count": null,
   "id": "43e7895d",
   "metadata": {},
   "outputs": [],
   "source": [
    "#below is the base case, with only one hot encoding and ridge classifier\n",
    "import math\n",
    "from tqdm import tqdm\n",
    "import matplotlib.pyplot as plt\n",
    "from sklearn.naive_bayes import MultinomialNB\n",
    "from sklearn.metrics import roc_auc_score\n",
    "from sklearn.metrics import accuracy_score\n",
    "\n",
    "train_acc  = []\n",
    "cv_acc     = []\n",
    "train_val  = []\n",
    "cv_val     = []\n",
    "log_i      = []\n",
    "K = [10**-10,10**-6,10**-2,10**2, 10**6, 10**10]\n",
    "\n",
    "for i in tqdm(K):\n",
    "    Classifier = RidgeClassifier(alpha= i)\n",
    "    Classifier.fit(X_tr_bow,y_train)\n",
    "    y_train_pred = Classifier.decision_function(X_tr_bow)\n",
    "    pred_probs = np.exp(y_train_pred)\n",
    "    pred_probs = np.where(pred_probs>0.90, 1, 0)\n",
    "    accuracy_val = accuracy_score(y_train, pred_probs)\n",
    "    train_acc.append(accuracy_val)\n",
    "    y_train_pred = Classifier.decision_function(X_cr_bow)\n",
    "    pred_probs = np.exp(y_train_pred)\n",
    "    pred_probs = np.where(pred_probs>0.90, 1, 0)\n",
    "    accuracy_val = accuracy_score(y_cv, pred_probs)\n",
    "    cv_acc.append(accuracy_val) \n",
    "    \n",
    "for i in K:\n",
    "    log_i.append(math.log10(i))\n",
    "plt.plot(log_i, train_acc, label='Train ACC')\n",
    "plt.plot(log_i, cv_acc, label='CV ACC')\n",
    "plt.scatter(log_i, train_acc, label='Train ACC points')\n",
    "plt.scatter(log_i, cv_acc, label='CV ACC points')\n",
    "plt.legend()\n",
    "plt.xlabel(\"Alpha: hyperparameter\")\n",
    "plt.ylabel(\"ACC\")\n",
    "plt.title(\"Accuracy PLOTS\")\n",
    "plt.grid()\n",
    "plt.show()"
   ]
  },
  {
   "cell_type": "code",
   "execution_count": null,
   "id": "a1303fef",
   "metadata": {},
   "outputs": [],
   "source": [
    "#applying the Bernoulli Naive Bayes on the prepared data set\n",
    "import math\n",
    "from tqdm import tqdm\n",
    "import matplotlib.pyplot as plt\n",
    "from sklearn.naive_bayes import MultinomialNB\n",
    "from sklearn.metrics import roc_auc_score\n",
    "from sklearn.metrics import accuracy_score\n",
    "\n",
    "train_acc  = []\n",
    "cv_acc     = []\n",
    "train_val  = []\n",
    "cv_val     = []\n",
    "log_i      = []\n",
    "#K = [10**-7,10**-6,10**-5,10**-4, 10**-3, 10**-2, 10**-1, 10**0, 10**1,10**2,10**3,10**4]\n",
    "\n",
    "for i in tqdm(K):\n",
    "    NB_Classifier = MultinomialNB(alpha = i)\n",
    "    NB_Classifier.fit(X_tr_bow,y_train)\n",
    "    y_train_pred     = NB_Classifier.predict(X_tr_bow)\n",
    "    y_cv_pred        = NB_Classifier.predict(X_cr_bow)\n",
    "    train_acc.append(accuracy_score(y_train,y_train_pred))\n",
    "    cv_acc.append(accuracy_score(y_cv, y_cv_pred))\n",
    "for i in K:\n",
    "    log_i.append(math.log10(i))\n",
    "plt.plot(log_i, train_acc, label='Train ACC')\n",
    "plt.plot(log_i, cv_acc, label='CV ACC')\n",
    "plt.scatter(log_i, train_acc, label='Train ACC points')\n",
    "plt.scatter(log_i, cv_acc, label='CV ACC points')\n",
    "plt.legend()\n",
    "plt.xlabel(\"Alpha: hyperparameter\")\n",
    "plt.ylabel(\"ACC\")\n",
    "plt.title(\"Accuracy PLOTS\")\n",
    "plt.grid()\n",
    "plt.show()"
   ]
  },
  {
   "cell_type": "code",
   "execution_count": null,
   "id": "dcaf8115",
   "metadata": {},
   "outputs": [],
   "source": [
    "#applying the Random Forest Classifier on the prepared data set\n",
    "import math\n",
    "from tqdm import tqdm\n",
    "import matplotlib.pyplot as plt\n",
    "from sklearn.naive_bayes import MultinomialNB\n",
    "from sklearn.metrics import roc_auc_score\n",
    "from sklearn.metrics import accuracy_score\n",
    "from sklearn.ensemble import RandomForestClassifier\n",
    "from sklearn.datasets import make_classification\n",
    "\n",
    "train_acc  = []\n",
    "cv_acc     = []\n",
    "depth      = []\n",
    "K = [2,4,6,8,10,12,15,20,27,30,33,36]\n",
    "\n",
    "for i in tqdm(K):\n",
    "    Rf_clf = RandomForestClassifier(max_depth=i, random_state=0)\n",
    "    Rf_clf.fit(X_tr_bow,y_train)\n",
    "    y_train_pred     = Rf_clf.predict(X_tr_bow)\n",
    "    y_cv_pred        = Rf_clf.predict(X_cr_bow)\n",
    "    train_acc.append(accuracy_score(y_train,y_train_pred))\n",
    "    cv_acc.append(accuracy_score(y_cv, y_cv_pred))\n",
    "for i in K:\n",
    "    depth.append((i))\n",
    "plt.plot(depth, train_acc, label='Train ACC')\n",
    "plt.plot(depth, cv_acc, label='CV ACC')\n",
    "plt.scatter(depth, train_acc, label='Train ACC points')\n",
    "plt.scatter(depth, cv_acc, label='CV ACC points')\n",
    "plt.legend()\n",
    "plt.xlabel(\"Depth: hyperparameter\")\n",
    "plt.ylabel(\"ACC\")\n",
    "plt.title(\"Accuracy PLOTS\")\n",
    "plt.grid()\n",
    "plt.show()"
   ]
  },
  {
   "cell_type": "code",
   "execution_count": null,
   "id": "3bd325b8",
   "metadata": {},
   "outputs": [],
   "source": [
    "print('The max accuracy we are getting is',cv_acc[-2],'with depth of',K[-2],'are parameter for random forest')"
   ]
  },
  {
   "cell_type": "code",
   "execution_count": null,
   "id": "c74a188a",
   "metadata": {},
   "outputs": [],
   "source": [
    "#mapping column values with digits\n",
    "y_train_pred     = Rf_clf.predict(X_te_bow)\n",
    "For_test['Condition'] = (y_train_pred)\n",
    "For_test = For_test.astype({'Condition':'int'})\n",
    "For_test['Condition'] = For_test['Condition'].map({ 0 : 'excellent',  1: 'good' })\n",
    "For_test.head(3)"
   ]
  },
  {
   "cell_type": "code",
   "execution_count": null,
   "id": "a31ed35f",
   "metadata": {},
   "outputs": [],
   "source": [
    "excellent_description = list(For_test[For_test['Condition'] == 'excellent']['Description'].values)\n",
    "for doc in excellent_description[15:20]:\n",
    "    print(doc)\n",
    "#print(excellent_description[12])\n",
    "#print(excellent_description[21])"
   ]
  },
  {
   "cell_type": "code",
   "execution_count": null,
   "id": "66237f80",
   "metadata": {},
   "outputs": [],
   "source": [
    "good_description = list(For_test[For_test['Condition'] == 'good']['Description'].values)\n",
    "print(good_description[8])\n",
    "print(good_description[16])"
   ]
  },
  {
   "cell_type": "code",
   "execution_count": null,
   "id": "ea5e6640",
   "metadata": {},
   "outputs": [],
   "source": []
  },
  {
   "cell_type": "code",
   "execution_count": null,
   "id": "4feb8f9f",
   "metadata": {},
   "outputs": [],
   "source": []
  },
  {
   "cell_type": "code",
   "execution_count": null,
   "id": "a958986e",
   "metadata": {},
   "outputs": [],
   "source": []
  },
  {
   "cell_type": "markdown",
   "id": "6416f588",
   "metadata": {},
   "source": [
    "### --- End of Notebook ---"
   ]
  }
 ],
 "metadata": {
  "kernelspec": {
   "display_name": "Python 3",
   "language": "python",
   "name": "python3"
  },
  "language_info": {
   "codemirror_mode": {
    "name": "ipython",
    "version": 3
   },
   "file_extension": ".py",
   "mimetype": "text/x-python",
   "name": "python",
   "nbconvert_exporter": "python",
   "pygments_lexer": "ipython3",
   "version": "3.8.8"
  }
 },
 "nbformat": 4,
 "nbformat_minor": 5
}
